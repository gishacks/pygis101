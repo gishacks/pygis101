{
 "cells": [
  {
   "cell_type": "code",
   "execution_count": null,
   "metadata": {},
   "outputs": [],
   "source": [
    "fhand =open('hamlet.txt')\n",
    "hamlet = fhand.read()\n",
    "text = hamlet.split()\n",
    "\n",
    "count = 0\n",
    "for word in text:\n",
    "    word = word.lower()\n",
    "    if word == 'hamlet':\n",
    "        count += 1\n",
    "print(count)"
   ]
  },
  {
   "cell_type": "code",
   "execution_count": null,
   "metadata": {},
   "outputs": [],
   "source": [
    "words = {}\n",
    "for word in text:\n",
    "    word = word.lower()\n",
    "    if word in words:\n",
    "        words[word]+=1\n",
    "    else:\n",
    "        words[word] = 1\n",
    "\n",
    "for key, value in words.items():\n",
    "    if value > 50 and len(key)>4:\n",
    "        print(key, value)"
   ]
  },
  {
   "cell_type": "code",
   "execution_count": null,
   "metadata": {},
   "outputs": [],
   "source": [
    "with open('hamlet.txt', 'r') as file:\n",
    "    lines = file.readlines()\n",
    "with open('hamlet.txt', 'w') as file:\n",
    "    for line in lines:\n",
    "        newLine = line.replace('Hamlet', 'Emad')\n",
    "        print(newLine)\n",
    "        file.write(newLine)\n"
   ]
  },
  {
   "cell_type": "code",
   "execution_count": null,
   "metadata": {},
   "outputs": [],
   "source": []
  }
 ],
 "metadata": {
  "kernelspec": {
   "display_name": "pygis",
   "language": "python",
   "name": "python3"
  },
  "language_info": {
   "codemirror_mode": {
    "name": "ipython",
    "version": 3
   },
   "file_extension": ".py",
   "mimetype": "text/x-python",
   "name": "python",
   "nbconvert_exporter": "python",
   "pygments_lexer": "ipython3",
   "version": "3.11.5"
  }
 },
 "nbformat": 4,
 "nbformat_minor": 2
}
