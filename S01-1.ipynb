{
 "cells": [
  {
   "cell_type": "code",
   "execution_count": null,
   "metadata": {},
   "outputs": [],
   "source": [
    "print('Hello World!')"
   ]
  },
  {
   "cell_type": "code",
   "execution_count": null,
   "metadata": {},
   "outputs": [],
   "source": [
    "name = 'Tayebi'\n",
    "print(name)"
   ]
  },
  {
   "cell_type": "code",
   "execution_count": null,
   "metadata": {},
   "outputs": [],
   "source": [
    "for chr in name:\n",
    "    print(chr)"
   ]
  },
  {
   "cell_type": "code",
   "execution_count": null,
   "metadata": {},
   "outputs": [],
   "source": [
    "for chr in name:\n",
    "    if chr == 'a':\n",
    "        print(True)\n",
    "    else:\n",
    "        print(False)"
   ]
  },
  {
   "cell_type": "code",
   "execution_count": null,
   "metadata": {},
   "outputs": [],
   "source": [
    "count = 0\n",
    "for chr in name:\n",
    "    if chr == 'a':\n",
    "        count = count + 1\n",
    "print('Number of a: '+str(count))"
   ]
  },
  {
   "cell_type": "code",
   "execution_count": null,
   "metadata": {},
   "outputs": [],
   "source": [
    "def countA(text):\n",
    "    count = 0\n",
    "    for chr in text:\n",
    "        if chr == 'a':\n",
    "            count += 1\n",
    "    print('Number of a:'+ str(count))\n",
    "countA(name)"
   ]
  },
  {
   "cell_type": "code",
   "execution_count": null,
   "metadata": {},
   "outputs": [],
   "source": [
    "def countChr(c, t):\n",
    "    t = t.lower()\n",
    "    count = 0\n",
    "    for chr in t:\n",
    "        if chr == c:\n",
    "            count += 1\n",
    "    print('Number of '+c+': '+ str(count))\n",
    "countChr('d', name)"
   ]
  }
 ],
 "metadata": {
  "kernelspec": {
   "display_name": "pygis",
   "language": "python",
   "name": "python3"
  },
  "language_info": {
   "codemirror_mode": {
    "name": "ipython",
    "version": 3
   },
   "file_extension": ".py",
   "mimetype": "text/x-python",
   "name": "python",
   "nbconvert_exporter": "python",
   "pygments_lexer": "ipython3",
   "version": "3.11.5"
  }
 },
 "nbformat": 4,
 "nbformat_minor": 2
}
