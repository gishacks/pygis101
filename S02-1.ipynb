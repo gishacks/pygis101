{
 "cells": [
  {
   "cell_type": "code",
   "execution_count": 3,
   "metadata": {},
   "outputs": [],
   "source": [
    "import geopandas as gpd\n",
    "import matplotlib.pyplot as plt"
   ]
  },
  {
   "cell_type": "code",
   "execution_count": 4,
   "metadata": {},
   "outputs": [],
   "source": [
    "parcel_data_1375 = gpd.read_file(r\"E:\\Teaching\\PyGIS101\\Session 2\\data\\R01M4.shp\")\n",
    "parcel_data_1385 = gpd.read_file(r\"E:\\Teaching\\PyGIS101\\Session 2\\data\\R01M5.shp\")"
   ]
  },
  {
   "cell_type": "code",
   "execution_count": null,
   "metadata": {},
   "outputs": [],
   "source": [
    "parcel_data_1375.crs\n",
    "parcel_data_1385.crs\n"
   ]
  },
  {
   "cell_type": "code",
   "execution_count": 6,
   "metadata": {},
   "outputs": [],
   "source": [
    "if parcel_data_1375.crs != parcel_data_1385.crs:\n",
    "    parcel_data_1375 = parcel_data_1375.to_crs(parcel_data_1385.crs)"
   ]
  },
  {
   "cell_type": "code",
   "execution_count": 7,
   "metadata": {},
   "outputs": [],
   "source": [
    "joined_data = gpd.sjoin(parcel_data_1375,parcel_data_1385)"
   ]
  },
  {
   "cell_type": "code",
   "execution_count": 8,
   "metadata": {},
   "outputs": [],
   "source": [
    "joined_data['uniq_id'] = joined_data.index"
   ]
  },
  {
   "cell_type": "code",
   "execution_count": 9,
   "metadata": {},
   "outputs": [],
   "source": [
    "changed_parcels = joined_data[joined_data['luShora_left'] != joined_data['luShora_right']]"
   ]
  },
  {
   "cell_type": "code",
   "execution_count": null,
   "metadata": {},
   "outputs": [],
   "source": [
    "changed_parcels['luChange'] = changed_parcels['luShora_left'].astype(str) + ' -> ' + changed_parcels['luShora_right'].astype(str)"
   ]
  },
  {
   "cell_type": "code",
   "execution_count": null,
   "metadata": {},
   "outputs": [],
   "source": [
    "changed_parcels.head()"
   ]
  },
  {
   "cell_type": "code",
   "execution_count": null,
   "metadata": {},
   "outputs": [],
   "source": [
    "lu_1375= changed_parcels['luShora_left'].values\n",
    "lu_1385= changed_parcels['luShora_right'].values\n",
    "plt.plot(lu_1375, lu_1385, 'o')"
   ]
  },
  {
   "cell_type": "code",
   "execution_count": null,
   "metadata": {},
   "outputs": [],
   "source": [
    "fig, ax = plt.subplots(figsize=(10, 10))\n",
    "changed_parcels.plot(column='luChange', \n",
    "         cmap='Set3',  # Choose a color map\n",
    "         legend=False,  # Add a legend\n",
    "         ax=ax)\n",
    "\n",
    "# Set plot title and labels\n",
    "plt.title(\"Landuse change between 1375 - 1385\")\n",
    "plt.xlabel(\"Longitude\")\n",
    "plt.ylabel(\"Latitude\")\n",
    "\n",
    "# Show the plot\n",
    "plt.show()"
   ]
  },
  {
   "cell_type": "code",
   "execution_count": null,
   "metadata": {},
   "outputs": [],
   "source": [
    "changed_parcels.explore(\"luChange\", cmap=\"Blues\")"
   ]
  },
  {
   "cell_type": "code",
   "execution_count": null,
   "metadata": {},
   "outputs": [],
   "source": [
    "changed_parcels.groupby('luChange').count()"
   ]
  },
  {
   "cell_type": "code",
   "execution_count": null,
   "metadata": {},
   "outputs": [],
   "source": [
    "changed_parcels.dissolve(by='luChange', aggfunc='count')"
   ]
  },
  {
   "cell_type": "code",
   "execution_count": 23,
   "metadata": {},
   "outputs": [],
   "source": [
    "luChange = changed_parcels.dissolve(\n",
    "    by='luChange', \n",
    "    aggfunc={\n",
    "        'uniq_id':'count'\n",
    "    })"
   ]
  },
  {
   "cell_type": "code",
   "execution_count": null,
   "metadata": {},
   "outputs": [],
   "source": [
    "luChange['area']=luChange.area\n",
    "luChange.sort_values('uniq_id', ascending=False)"
   ]
  },
  {
   "cell_type": "code",
   "execution_count": null,
   "metadata": {},
   "outputs": [],
   "source": [
    "changed_parcels.pivot_table(\n",
    "    index='luShora_left',\n",
    "    columns='luShora_right',\n",
    "    aggfunc={\n",
    "        'uniq_id': 'count'\n",
    "    })"
   ]
  },
  {
   "cell_type": "code",
   "execution_count": 44,
   "metadata": {},
   "outputs": [],
   "source": [
    "greenChange = changed_parcels[changed_parcels['luShora_left'] == 15]"
   ]
  },
  {
   "cell_type": "code",
   "execution_count": null,
   "metadata": {},
   "outputs": [],
   "source": [
    "greenChange.plot(\"luShora_right\", cmap=\"Set3\", legend = True, categorical = True)\n",
    "plt.savefig('draft/greenChanges.jpg')"
   ]
  },
  {
   "cell_type": "code",
   "execution_count": 56,
   "metadata": {},
   "outputs": [],
   "source": [
    "map = greenChange.explore(\"luShora_right\", cmap=\"Set1\", legend = True, categorical = True)\n",
    "map.save('draft/map.html')"
   ]
  }
 ],
 "metadata": {
  "kernelspec": {
   "display_name": "pygis",
   "language": "python",
   "name": "python3"
  },
  "language_info": {
   "codemirror_mode": {
    "name": "ipython",
    "version": 3
   },
   "file_extension": ".py",
   "mimetype": "text/x-python",
   "name": "python",
   "nbconvert_exporter": "python",
   "pygments_lexer": "ipython3",
   "version": "3.11.5"
  }
 },
 "nbformat": 4,
 "nbformat_minor": 2
}
