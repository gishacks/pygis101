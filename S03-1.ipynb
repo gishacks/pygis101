{
 "cells": [
  {
   "cell_type": "code",
   "execution_count": 126,
   "metadata": {},
   "outputs": [],
   "source": [
    "import rasterio\n",
    "import numpy as np\n",
    "import matplotlib.pyplot as plt\n",
    "from rasterio.warp import calculate_default_transform, reproject, Resampling\n",
    "from pyproj import Transformer"
   ]
  },
  {
   "cell_type": "code",
   "execution_count": 22,
   "metadata": {},
   "outputs": [],
   "source": [
    "def reproject_image(input_image, output_image, dst_crs='EPSG:4326'):\n",
    "    with rasterio.open(input_image) as src:\n",
    "        transform, width, height = calculate_default_transform(\n",
    "            src.crs, dst_crs, src.width, src.height, *src.bounds)\n",
    "        kwargs = src.meta.copy()\n",
    "        kwargs.update({\n",
    "            'crs': dst_crs,\n",
    "            'transform': transform,\n",
    "            'width': width,\n",
    "            'height': height\n",
    "        })\n",
    "        \n",
    "        with rasterio.open(output_image, 'w', **kwargs) as dst:\n",
    "            for i in range(1, src.count + 1):\n",
    "                reproject(\n",
    "                    source=rasterio.band(src, i),\n",
    "                    destination=rasterio.band(dst, i),\n",
    "                    src_transform=src.transform,\n",
    "                    src_crs=src.crs,\n",
    "                    dst_transform=transform,\n",
    "                    dst_crs=dst_crs,\n",
    "                    resampling=Resampling.nearest)\n"
   ]
  },
  {
   "cell_type": "code",
   "execution_count": 23,
   "metadata": {},
   "outputs": [],
   "source": [
    "reproject_image('landsat2014_B4.TIF', 'landsat2014_B4_rp.TIF')\n",
    "reproject_image('landsat2024_B4.TIF', 'landsat2024_B4_rp.TIF')\n",
    "reproject_image('landsat2014_B5.TIF', 'landsat2014_B5_rp.TIF')\n",
    "reproject_image('landsat2024_B5.TIF', 'landsat2024_B5_rp.TIF')\n"
   ]
  },
  {
   "cell_type": "code",
   "execution_count": 122,
   "metadata": {},
   "outputs": [],
   "source": [
    "with rasterio.open('landsat2014_B5.TIF') as src:\n",
    "    nir2014 = src.read().astype('float64')\n",
    "    profile = src.profile\n",
    "    transform = src.transform\n",
    "    crs = src.crs\n",
    "with rasterio.open('landsat2014_B4.TIF') as src:\n",
    "    red2014 = src.read().astype('float64')\n",
    "with rasterio.open('landsat2024_B5.TIF') as src:\n",
    "    nir2024 = src.read().astype('float64')\n",
    "with rasterio.open('landsat2024_B4.TIF') as src:\n",
    "    red2024 = src.read().astype('float64')"
   ]
  },
  {
   "cell_type": "code",
   "execution_count": 53,
   "metadata": {},
   "outputs": [],
   "source": [
    "def calculate_ndvi(nir, red):\n",
    "    ndvi = (nir - red) / (nir + red)\n",
    "    return ndvi"
   ]
  },
  {
   "cell_type": "code",
   "execution_count": null,
   "metadata": {},
   "outputs": [],
   "source": [
    "ndvi2014 = calculate_ndvi(nir2014, red2014)\n",
    "ndvi2024 = calculate_ndvi(nir2024, red2024)\n"
   ]
  },
  {
   "cell_type": "code",
   "execution_count": 55,
   "metadata": {},
   "outputs": [],
   "source": [
    "nvdi_change = ndvi2024 - ndvi2014"
   ]
  },
  {
   "cell_type": "code",
   "execution_count": 56,
   "metadata": {},
   "outputs": [],
   "source": [
    "classified_nvdi_change = np.where(nvdi_change>0.1,1,np.where(nvdi_change <-0.1,-1, 0))"
   ]
  },
  {
   "cell_type": "code",
   "execution_count": 60,
   "metadata": {},
   "outputs": [],
   "source": [
    "classified_nvdi_change = classified_nvdi_change.squeeze()"
   ]
  },
  {
   "cell_type": "code",
   "execution_count": null,
   "metadata": {},
   "outputs": [],
   "source": [
    "plt.imshow(classified_nvdi_change, cmap='RdYlGn')\n",
    "plt.colorbar()\n",
    "plt.title('Change in Land Use (2000-2023)')\n",
    "plt.show()\n"
   ]
  },
  {
   "cell_type": "code",
   "execution_count": 109,
   "metadata": {},
   "outputs": [],
   "source": [
    "with rasterio.open('nvdi_change.tif', 'w', **profile) as dst:\n",
    "    dst.write(classified_nvdi_change.astype(rasterio.int32), 1)\n"
   ]
  },
  {
   "cell_type": "code",
   "execution_count": 145,
   "metadata": {},
   "outputs": [],
   "source": [
    "def getRasterValue(xy, raster, transform):\n",
    "    xy = list(xy)\n",
    "    transformer = Transformer.from_crs('epsg:4326', crs, always_xy=True)\n",
    "    long,lat = transformer.transform(xy[1], xy[0])\n",
    "    row, col = ~transform * (long, lat)\n",
    "    row, col = int(row), int(col)\n",
    "    value = raster[row,col]\n",
    "    return value\n"
   ]
  },
  {
   "cell_type": "code",
   "execution_count": null,
   "metadata": {},
   "outputs": [],
   "source": [
    "coords = 36.5011886054449, 52.849342734743566\n",
    "getRasterValue(coords, classified_nvdi_change, transform)"
   ]
  }
 ],
 "metadata": {
  "kernelspec": {
   "display_name": "pygis",
   "language": "python",
   "name": "python3"
  },
  "language_info": {
   "codemirror_mode": {
    "name": "ipython",
    "version": 3
   },
   "file_extension": ".py",
   "mimetype": "text/x-python",
   "name": "python",
   "nbconvert_exporter": "python",
   "pygments_lexer": "ipython3",
   "version": "3.11.5"
  }
 },
 "nbformat": 4,
 "nbformat_minor": 2
}
